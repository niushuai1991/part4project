{
 "cells": [
  {
   "cell_type": "markdown",
   "metadata": {},
   "source": [
    "#### 数据分析基础项目\n",
    "\n",
    "## 分析数据集\n",
    "\n",
    "泰坦尼克号数据：包括泰坦尼克号上 2224 名乘客和船员中 891 名的人口学数据和乘客基本信息。\n",
    "\n",
    "## 分析的问题\n",
    "\n",
    "在泰坦尼克号里，是哪些因素影响着幸存率？\n",
    "可能影响的因素：\n",
    "1. 性别\n",
    "2. 年龄\n",
    "3. 船票种类"
   ]
  },
  {
   "cell_type": "markdown",
   "metadata": {},
   "source": [
    "## 预览数据"
   ]
  },
  {
   "cell_type": "code",
   "execution_count": 2,
   "metadata": {},
   "outputs": [
    {
     "name": "stdout",
     "output_type": "stream",
     "text": [
      "   PassengerId  Survived  Pclass  \\\n",
      "0            1         0       3   \n",
      "1            2         1       1   \n",
      "2            3         1       3   \n",
      "3            4         1       1   \n",
      "4            5         0       3   \n",
      "\n",
      "                                                Name     Sex   Age  SibSp  \\\n",
      "0                            Braund, Mr. Owen Harris    male  22.0      1   \n",
      "1  Cumings, Mrs. John Bradley (Florence Briggs Th...  female  38.0      1   \n",
      "2                             Heikkinen, Miss. Laina  female  26.0      0   \n",
      "3       Futrelle, Mrs. Jacques Heath (Lily May Peel)  female  35.0      1   \n",
      "4                           Allen, Mr. William Henry    male  35.0      0   \n",
      "\n",
      "   Parch            Ticket     Fare Cabin Embarked  \n",
      "0      0         A/5 21171   7.2500   NaN        S  \n",
      "1      0          PC 17599  71.2833   C85        C  \n",
      "2      0  STON/O2. 3101282   7.9250   NaN        S  \n",
      "3      0            113803  53.1000  C123        S  \n",
      "4      0            373450   8.0500   NaN        S  \n"
     ]
    }
   ],
   "source": [
    "import pandas as pd\n",
    "import numpy as np\n",
    "df = pd.read_csv('titanic-data.csv')\n",
    "print(df.head())"
   ]
  },
  {
   "cell_type": "markdown",
   "metadata": {},
   "source": [
    "## 分析幸存率是否和性别有关\n",
    "分别求出男性和女性的生还率，然后生成直方图"
   ]
  },
  {
   "cell_type": "code",
   "execution_count": 5,
   "metadata": {},
   "outputs": [
    {
     "data": {
      "text/plain": [
       "891"
      ]
     },
     "execution_count": 5,
     "metadata": {},
     "output_type": "execute_result"
    }
   ],
   "source": [
    "has_sex_df = df[~df['Sex'].isnull()]\n",
    "has_sex_df['Sex'].count()"
   ]
  },
  {
   "cell_type": "code",
   "execution_count": 6,
   "metadata": {
    "scrolled": true
   },
   "outputs": [
    {
     "data": {
      "text/plain": [
       "<matplotlib.axes._subplots.AxesSubplot at 0x10bd98d50>"
      ]
     },
     "execution_count": 6,
     "metadata": {},
     "output_type": "execute_result"
    },
    {
     "data": {
      "image/png": "[encoded data removed]",
      "text/plain": [
       "<Figure size 432x288 with 1 Axes>"
      ]
     },
     "metadata": {},
     "output_type": "display_data"
    }
   ],
   "source": [
    "%matplotlib inline\n",
    "has_sex_df.groupby(['Sex','Survived'])['Survived'].count().unstack().plot(kind='bar',stacked='True')"
   ]
  },
  {
   "cell_type": "markdown",
   "metadata": {},
   "source": [
    "### 分析幸存率和性别的结果\n",
    "\n",
    "从上图中我们可以看出，在泰坦尼克号上女性的幸存率要比男性高出很多，所以极有可能跟性别有关，但是我们还需要再分析一下其它一些因素。"
   ]
  },
  {
   "cell_type": "markdown",
   "metadata": {},
   "source": [
    "## 分析幸存率是否与年龄有关\n",
    "\n",
    "我们可以猜测，年轻人要比老年人或者儿童在遇到危险时，有更强的求生能力，能更快速躲避危险，所以我们需要依据年龄进行分析，看看是否与年龄有关。\n",
    "\n",
    "    设计分析过程：\n",
    "1. 检查数据完整性（年龄），过滤掉缺少信息的记录\n",
    "2. 将年龄进行分段，以10岁为一个阶段进行划分\n",
    "   划分后，0-9岁一组，10-19岁一组，以此类推\n",
    "3. 分析各年龄段的幸存率"
   ]
  },
  {
   "cell_type": "code",
   "execution_count": 7,
   "metadata": {},
   "outputs": [
    {
     "data": {
      "text/plain": [
       "714"
      ]
     },
     "execution_count": 7,
     "metadata": {},
     "output_type": "execute_result"
    }
   ],
   "source": [
    "# 去除没有年龄的记录\n",
    "age_not_null_df = df[~df['Age'].isnull()]\n",
    "age_not_null_df['Age'].count()"
   ]
  },
  {
   "cell_type": "code",
   "execution_count": 8,
   "metadata": {},
   "outputs": [
    {
     "data": {
      "text/plain": [
       "<matplotlib.axes._subplots.AxesSubplot at 0x11082f890>"
      ]
     },
     "execution_count": 8,
     "metadata": {},
     "output_type": "execute_result"
    },
    {
     "data": {
      "image/png": "[encoded data removed]",
      "text/plain": [
       "<Figure size 432x288 with 1 Axes>"
      ]
     },
     "metadata": {},
     "output_type": "display_data"
    }
   ],
   "source": [
    "# 展示各年龄段的幸存比例\n",
    "df['Age_sec'] = pd.cut(df['Age'], bins=range(0,91,10), precision=0)\n",
    "df.groupby('Age_sec')['Survived'].mean().plot(kind='bar', grid=True, color='purple')"
   ]
  },
  {
   "cell_type": "markdown",
   "metadata": {},
   "source": [
    "从图中可以看出，儿童的幸存率要略高于其他人。应该是在灾难中，儿童受到了成年人的保护，得以幸存。"
   ]
  },
  {
   "cell_type": "markdown",
   "metadata": {},
   "source": [
    "## 分析幸存率和船票种类是否有关\n",
    "\n",
    "我在网上搜索了一些相关资料，[其中一篇文章](https://baike.baidu.com/tashuo/browse/content?id=db3f0c11498764d5057ca726)里这样写道：\n",
    "事后证明，零点27分，也就是沉船当地时间（和纽约的时差）凌晨1点20分，在最早下水的几艘救生船中，获救的不只是妇女儿童，男性获救者几乎占了一半左右，而且几乎都是头等舱男乘客。  \n",
    "为了验证这种说法是否正确，我们需要分析各种船票是否会影响幸存率。"
   ]
  },
  {
   "cell_type": "code",
   "execution_count": 36,
   "metadata": {},
   "outputs": [],
   "source": [
    "### 过滤船票类型缺失的数据\n",
    "pclass_not_null_df = df[~df['Pclass'].isnull()]"
   ]
  },
  {
   "cell_type": "code",
   "execution_count": 35,
   "metadata": {},
   "outputs": [
    {
     "data": {
      "text/plain": [
       "<matplotlib.axes._subplots.AxesSubplot at 0x120ed1910>"
      ]
     },
     "execution_count": 35,
     "metadata": {},
     "output_type": "execute_result"
    },
    {
     "data": {
      "image/png": "[encoded data removed]",
      "text/plain": [
       "<Figure size 432x288 with 1 Axes>"
      ]
     },
     "metadata": {},
     "output_type": "display_data"
    }
   ],
   "source": [
    "# 查看各种票与对应的幸存率的关系\n",
    "pclass_not_null_df.groupby(['Pclass'])['Survived'].mean().plot(kind='bar', grid=True)"
   ]
  },
  {
   "cell_type": "markdown",
   "metadata": {},
   "source": [
    "从图可以可以看出，船票级别越高的票种，对应的幸存率越高。一级票比三级票幸存率高出一倍多。"
   ]
  },
  {
   "cell_type": "markdown",
   "metadata": {},
   "source": [
    "# 最终结论\n",
    "通过以上的数据分析结果，我得出的结论是：影响幸存率最大的因素是性别。但是为什么女性在这次灾难中幸存率为什么这么高？具体原因未知。\n",
    "\n",
    "# 存在的限制因素\n",
    "\n",
    "以上的分析过程和结果都是基于已提供的数据集，而数据集里的信息只能片面地反响一部分当时的情况，像“乘客是否会游泳”这种可能会影响幸存率的信息并没有存在于数据集中，所以分析结果可能会受到数据集的影响。  \n",
    "\n",
    "另外，我选择的性别、年龄、票种这三个可能会影响幸存率的因素完全是基于我的经验和感觉，所以实际情况可能是其它没有分析到的因素更会影响到幸存率，只是我没考虑到。\n"
   ]
  },
  {
   "cell_type": "markdown",
   "metadata": {},
   "source": [
    "## 参考资料\n",
    "[Pandas简易入门（二） - kylinlin - 博客园](http://www.cnblogs.com/kylinlin/p/5226860.html)  \n",
    "[python 报ValueError: Bin labels must be one fewer than the number of bin edges](https://blog.csdn.net/Norsaa/article/details/77774634)  \n",
    "[用Pandas作图 - CSDN博客](https://blog.csdn.net/fennvde007/article/details/37693523)"
   ]
  }
 ],
 "metadata": {
  "kernelspec": {
   "display_name": "Python 3",
   "language": "python",
   "name": "python3"
  },
  "language_info": {
   "codemirror_mode": {
    "name": "ipython",
    "version": 2
   },
   "file_extension": ".py",
   "mimetype": "text/x-python",
   "name": "python",
   "nbconvert_exporter": "python",
   "pygments_lexer": "ipython2",
   "version": "2.7.14"
  }
 },
 "nbformat": 4,
 "nbformat_minor": 2
}
